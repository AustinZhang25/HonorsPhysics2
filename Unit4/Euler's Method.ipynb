{
 "cells": [
  {
   "cell_type": "code",
   "execution_count": null,
   "id": "initial_id",
   "metadata": {
    "collapsed": true
   },
   "outputs": [],
   "source": [
    "time = 0\n",
    "dt = 0.01\n",
    "position = 0\n",
    "velocity = 0\n",
    "acceleration = 0\n",
    "mass = 0.3\n",
    "net_force = 0\n",
    "force1 = 1\n",
    "force2 = 2\n",
    "Euler1Layer = [time, position, velocity, acceleration, net_force]\n",
    "timeList = []\n",
    "Eulergraph = []\n",
    "while time < 10:\n",
    "    time += dt\n",
    "    position += velocity * dt\n",
    "    velocity += acceleration * dt\n",
    "    acceleration = net_force/mass\n",
    "    force1 = 1\n",
    "    force2 = 2\n",
    "    net_force = force1 + force2\n",
    "    Euler1Layer = [time, position, velocity, acceleration, net_force]\n",
    "    Eulergraph.append(Euler1Layer)"
   ]
  }
 ],
 "metadata": {
  "kernelspec": {
   "display_name": "Python 3",
   "language": "python",
   "name": "python3"
  },
  "language_info": {
   "codemirror_mode": {
    "name": "ipython",
    "version": 2
   },
   "file_extension": ".py",
   "mimetype": "text/x-python",
   "name": "python",
   "nbconvert_exporter": "python",
   "pygments_lexer": "ipython2",
   "version": "2.7.6"
  }
 },
 "nbformat": 4,
 "nbformat_minor": 5
}
